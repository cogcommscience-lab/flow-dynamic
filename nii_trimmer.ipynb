{
 "cells": [
  {
   "cell_type": "code",
   "execution_count": null,
   "metadata": {},
   "outputs": [],
   "source": [
    "# Details:\n",
    "# Study: Brain Network Organization and Behavior\n",
    "# Note: This notebook splits nii files into single volumes\n",
    "\n",
    "\n",
    "# Credits:\n",
    "# Written by Richard Huskey\n",
    "\n",
    "\n",
    "# Notes and dependencies\n",
    "# Requires job scheduler that accepts .pbs files"
   ]
  },
  {
   "cell_type": "code",
   "execution_count": null,
   "metadata": {},
   "outputs": [],
   "source": [
    "# Makes a template file in the working directory\n",
    "\n",
    "with open('fslsplit_template.txt', 'w') as readtemp:\n",
    "    readtemp.write('#!/bin/bash\\n#PBS -l walltime=240:00:00\\n#PBS -l nodes=1:ppn=1:huskey,mem=16000mb\\n#PBS -N fslmerge_sub{sub}_run{run}\\n#PBS -j oe\\n#PBS -m abe\\n#PBS -m abe -M huskey.29@osu.edu\\n\\n#COMMANDS TO RUN\\nmodule load fsl\\nfslsplit /fs/project/huskey.29/flow_dynamic/fmriprep_output/fmriprep/sub-{sub}/func/sub-{sub}_task-game_run-{run}_bold_space-MNI152NLin2009cAsym_preproc.nii.gz /fs/project/huskey.29/flow_dynamic/bids_nii_trimmed/volumes/sub-{sub}_task-game_run-{run}_bold_space-MNI152NLin2009cAsym_preproc_ -t')"
   ]
  },
  {
   "cell_type": "code",
   "execution_count": null,
   "metadata": {},
   "outputs": [],
   "source": [
    "# !/usr/bin/python\n",
    "\n",
    "import os,subprocess,sys\n",
    "\n",
    "# Define bids subject range\n",
    "SUB = range(5,43)\n",
    "RUN = range(1,4)\n",
    "SUBDICT = [10, 27, 38]\n",
    "PBSTEMPLATE = '/fs/project/huskey.29/flow_dynamic/bids_nii_trimmed/pbs_fslsplit/fslsplit_template.txt'\n",
    "\n",
    "# This loop populates obs scripts that will split each nii file\n",
    "pbsscripts = []\n",
    "\n",
    "for sub in SUB:\n",
    "    for run in RUN:\n",
    "            if sub in SUBDICT:\n",
    "                continue\n",
    "            with open(PBSTEMPLATE, 'r') as ptemplate:\n",
    "                pstring = ptemplate.read()\n",
    "                pbs = pstring.format(sub='%0.3d' % sub,run='%0.2d' %run)\n",
    "                poutname = '/fs/project/huskey.29/flow_dynamic/bids_nii_trimmed/pbs_fslsplit/sub-{}_task-game_run-{}_bold.pbs'.format('%0.3d' % sub,'%0.2d' %run)\n",
    "                with open(poutname, 'w') as poutscript:\n",
    "                    poutscript.writelines(pbs)"
   ]
  }
 ],
 "metadata": {
  "kernelspec": {
   "display_name": "Python 2",
   "language": "python",
   "name": "python2"
  },
  "language_info": {
   "codemirror_mode": {
    "name": "ipython",
    "version": 3
   },
   "file_extension": ".py",
   "mimetype": "text/x-python",
   "name": "python",
   "nbconvert_exporter": "python",
   "pygments_lexer": "ipython3",
   "version": "3.6.5"
  }
 },
 "nbformat": 4,
 "nbformat_minor": 2
}
