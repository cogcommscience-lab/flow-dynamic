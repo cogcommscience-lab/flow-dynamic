{
 "cells": [
  {
   "cell_type": "code",
   "execution_count": null,
   "metadata": {},
   "outputs": [],
   "source": [
    "# Details:\n",
    "# Study: Brain Network Organization and Behavior\n",
    "# Note: This notebook merges single volume nii files into a 4d file. This is the 4d file used in main analysis\n",
    "\n",
    "\n",
    "# Credits:\n",
    "# Written by Richard Huskey\n",
    "\n",
    "\n",
    "# Notes and dependencies\n",
    "# Requires job scheduler that accepts .pbs files"
   ]
  },
  {
   "cell_type": "code",
   "execution_count": null,
   "metadata": {},
   "outputs": [],
   "source": [
    "# Makes a template file in the working directory\n",
    "\n",
    "with open('fslmerge_template.txt', 'w') as readtemp:\n",
    "    readtemp.write('#!/bin/bash\\n#PBS -l walltime=240:00:00\\n#PBS -l nodes=1:ppn=1:huskey,mem=16000mb\\n#PBS -N fslmerge_sub{sub}_run{run}\\n#PBS -j oe\\n#PBS -m abe\\n#PBS -m abe -M huskey.29@osu.edu\\n\\n#COMMANDS TO RUN\\nmodule load fsl\\nfslmerge -tr /fs/project/huskey.29/flow_dynamic/bids_nii_trimmed/merged/sub-{sub}_task-game_run-{run}_bold_space-MNI152NLin2009cAsym_variant-smoothAROMAnonaggr_preproc_merged.nii.gz /fs/project/huskey.29/flow_dynamic/bids_nii_trimmed/volumes/sub-{sub}_task-game_run-{run}_bold_space-MNI152NLin2009cAsym_variant-smoothAROMAnonaggr_preproc_{vols} 2.0')"
   ]
  },
  {
   "cell_type": "code",
   "execution_count": null,
   "metadata": {},
   "outputs": [],
   "source": [
    "# !/usr/bin/python\n",
    "\n",
    "import os,subprocess,sys\n",
    "\n",
    "# Define bids subject range\n",
    "SUB = range(5,43)\n",
    "RUN = range(1,4)\n",
    "SUBDICT = [10, 27, 38]\n",
    "VOLS = '{0010..0125}'\n",
    "PBSTEMPLATE = '/fs/project/huskey.29/flow_dynamic/bids_nii_trimmed/pbs_fslmerge/fslmerge_template.txt'\n",
    "\n",
    "# This loop populates obs scripts that will merge each nii file\n",
    "pbsscripts = []\n",
    "\n",
    "for sub in SUB:\n",
    "    for run in RUN:\n",
    "            if sub in SUBDICT:\n",
    "                continue\n",
    "            with open(PBSTEMPLATE, 'r') as ptemplate:\n",
    "                pstring = ptemplate.read()\n",
    "                pbs = pstring.format(sub='%0.3d' % sub,run='%0.2d' %run,vols=VOLS)\n",
    "                poutname = '/fs/project/huskey.29/flow_dynamic/bids_nii_trimmed/pbs_fslmerge/sub-{}_task-game_run-{}_bold.pbs'.format('%0.3d' % sub,'%0.2d' %run)\n",
    "                with open(poutname, 'w') as poutscript:\n",
    "                    poutscript.writelines(pbs)"
   ]
  }
 ],
 "metadata": {
  "kernelspec": {
   "display_name": "Python 2",
   "language": "python",
   "name": "python2"
  },
  "language_info": {
   "codemirror_mode": {
    "name": "ipython",
    "version": 3
   },
   "file_extension": ".py",
   "mimetype": "text/x-python",
   "name": "python",
   "nbconvert_exporter": "python",
   "pygments_lexer": "ipython3",
   "version": "3.6.5"
  }
 },
 "nbformat": 4,
 "nbformat_minor": 2
}
