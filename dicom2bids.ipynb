{
 "cells": [
  {
   "cell_type": "code",
   "execution_count": null,
   "metadata": {},
   "outputs": [],
   "source": [
    "# Details:\n",
    "# Study: Brain Network Organization and Behavior\n",
    "# Note: This notebook was used to convert dicoms to bids compliant nii files\n",
    "\n",
    "# Credits:\n",
    "# Built from this guide: http://nipy.org/heudiconv/#1\n",
    "# Written by Richard Huskey & Xuanjun Gong\n",
    "\n",
    "# Notes and dependencies\n",
    "# Requres Docker: https://docs.docker.com/install/linux/docker-ce/ubuntu/#install-docker-ce-1\n",
    "# When including fieldmap, note these instructions for echo times: https://github.com/rordenlab/dcm2niix/issues/139"
   ]
  },
  {
   "cell_type": "code",
   "execution_count": null,
   "metadata": {
    "scrolled": false
   },
   "outputs": [],
   "source": [
    "%%bash\n",
    "docker pull nipy/heudiconv:latest\n",
    "\n",
    "# Pulls the latest version of heudiconv which converts your .dcm to .nii in a BIDS compliant data structure"
   ]
  },
  {
   "cell_type": "code",
   "execution_count": null,
   "metadata": {},
   "outputs": [],
   "source": [
    "%%bash\n",
    "mkdir bids_nii\n",
    "mkdir heudiconv_temp\n",
    "\n",
    "# Make an output directory for your BIDS compliant dataset\n",
    "# Also makes an output directory for the heudiconv info files (needed to make heuristic file, below)\n",
    "# Makes both in the current working directory"
   ]
  },
  {
   "cell_type": "code",
   "execution_count": null,
   "metadata": {},
   "outputs": [],
   "source": [
    "# NOTE: sub count starts at 005 (subs 001-004 were pilot scans using a different procedure)\n",
    "# NOTE: sub 010 excluded due to abnormal radiological reading\n",
    "# NOTE: subs 027 and 038 exhibited contraindication to scanning and therefore are excluded\n",
    "\n",
    "# Define a shell array that includes all your subjects\n",
    "# Runs heudiconv without any conversion, just passing in DICOMs and getting information about them\n",
    "# Do NOT save the output to the same directory as you plan on saving your final BIDS formatted dataset\n",
    "# Be sure to update the data and output paths"
   ]
  },
  {
   "cell_type": "code",
   "execution_count": null,
   "metadata": {},
   "outputs": [],
   "source": [
    "%%bash\n",
    "subs=( 005 006 007 008 009 011 012 013 014 015 016 017 018 019 020 021 022 023 024 025 026 028 029 030 031 032 033 034 035 036 037 039 040 041 042 )\n",
    "\n",
    "for element in \"${subs[@]}\"; do docker run --rm -v /mnt/ccsl_nas/studies/flow_dynamic/dicom/main_study_bids:/data:ro -v /mnt/ccsl_nas/studies/flow_dynamic/dicom/main_study_bids/heudiconv_temp:/output nipy/heudiconv:latest -d /data/{subject}/* -s \"$element\" -f convertall -c none -o /output; done"
   ]
  },
  {
   "cell_type": "code",
   "execution_count": null,
   "metadata": {},
   "outputs": [],
   "source": [
    "# Use the output of the dicominfo.tsv file to create heuristic keys for each of your scans\n",
    "# The .tsv file is found in the current working directory under .heudiconv/{subject}/info/dicominfo.tsv\n",
    "# Use specific info in the column to define features (below) that can only belong to a single run"
   ]
  },
  {
   "cell_type": "code",
   "execution_count": null,
   "metadata": {},
   "outputs": [],
   "source": [
    "%%writefile dcm2nii_heuristic.py\n",
    "\n",
    "# Makes a heuristic file and then writes it to the current working directory\n",
    "\n",
    "import os\n",
    "\n",
    "def create_key(template, outtype=('nii.gz',), annotation_classes=None):\n",
    "    if template is None or not template:\n",
    "        raise ValueError('Template must be valid format string')\n",
    "    return template, outtype, annotation_classes\n",
    "\n",
    "def infotodict(seqinfo):\n",
    "    \"\"\"Heuristic evaluator for determining which runs belong where\n",
    "    \n",
    "    allowed template fields - follow python string module:\n",
    "    \n",
    "    item: index within category\n",
    "    subject: participant id\n",
    "    seqitem: run number during scanning\n",
    "    subindex: sub index within group\n",
    "    \"\"\"\n",
    "     \n",
    "    # Keys define the type of scan\n",
    "    # Below extracts T1 and some task runs\n",
    "    # Paths done in BIDS format\n",
    "    \n",
    "    t1w = create_key('sub-{subject}/anat/sub-{subject}_T1w')\n",
    "    t2w = create_key('sub-{subject}/anat/sub-{subject}_T2w')\n",
    "    phasediff = create_key('sub-{subject}/fmap/sub-{subject}_phasediff')\n",
    "    magnitude = create_key('sub-{subject}/fmap/sub-{subject}_magnitude')\n",
    "    game1 = create_key('sub-{subject}/func/sub-{subject}_task-game_run-01_bold')\n",
    "    game2 = create_key('sub-{subject}/func/sub-{subject}_task-game_run-02_bold')\n",
    "    game3 = create_key('sub-{subject}/func/sub-{subject}_task-game_run-03_bold')\n",
    "    rest = create_key('sub-{subject}/func/sub-{subject}_task-rest_bold')\n",
    "   \n",
    "    info = {t1w: [], t2w: [], magnitude: [], phasediff: [], game1: [], game2: [], game3: [], rest:[]}\n",
    "\n",
    "    for idx, s in enumerate(seqinfo):\n",
    "        # s is a named tuple with fields equal to the names of the columns\n",
    "        # that are found in the dicominfo.tsv file\n",
    "        if (s.dim3 == 176) and (s.dim4 == 1) and('MPRAGE' in s.protocol_name):\n",
    "            info[t1w] = [s.series_id] # assign if a single scan meets criteria\n",
    "        if (s.dim3 == 60) and (s.dim4 == 1) and('t2' in s.protocol_name):\n",
    "            info[t2w] = [s.series_id] # assign if a single scan meets criteria\n",
    "        if (s.dim3 == 144) and (s.dim4 == 1) and('fieldmap' in s.protocol_name):\n",
    "            info[magnitude] = [s.series_id] # assign if a single scan meets criteria\n",
    "        if (s.dim3 == 72) and (s.dim4 == 1) and('fieldmap' in s.protocol_name):\n",
    "            info[phasediff] = [s.series_id] # assign if a single scan meets criteria\n",
    "        if (s.dim3 == 72) and (s.dim4 == 185) and('run1' in s.protocol_name):\n",
    "            info[game1] = [s.series_id] # assign if a single scan meets criteria\n",
    "        if (s.dim3 == 72) and (s.dim4 == 185) and('run2' in s.protocol_name):\n",
    "            info[game2] = [s.series_id] # assign if a single scan meets criteria\n",
    "        if (s.dim3 == 72) and (s.dim4 == 185) and('run3' in s.protocol_name):\n",
    "            info[game3] = [s.series_id] # assign if a single scan meets criteria\n",
    "        if (s.dim3 == 72) and (s.dim4 == 310) and('resting' in s.protocol_name):\n",
    "            info[rest] = [s.series_id] # assign if a single scan meets criteria\n",
    "    return info"
   ]
  },
  {
   "cell_type": "code",
   "execution_count": null,
   "metadata": {},
   "outputs": [],
   "source": [
    "# Converts dicoms to nii in a BIDS compliant format\n",
    "# Use the same shell array you defined above\n",
    "# Be sure to update the data and output paths"
   ]
  },
  {
   "cell_type": "code",
   "execution_count": null,
   "metadata": {
    "scrolled": false
   },
   "outputs": [],
   "source": [
    "%%bash\n",
    "subs=( 005 006 007 008 009 011 012 013 014 015 016 017 018 019 020 021 022 023 024 025 026 028 029 030 031 032 033 034 035 036 037 039 040 041 042 )\n",
    "\n",
    "for element in \"${subs[@]}\"; do docker run --rm -v /mnt/ccsl_nas/studies/flow_dynamic/dicom/main_study_bids:/data:ro -v /mnt/ccsl_nas/studies/flow_dynamic/dicom/main_study_bids/bids_nii:/output nipy/heudiconv:latest -d /data/{subject}/* -s \"$element\" -f /data/dcm2nii_heuristic.py -b -o /output; done"
   ]
  },
  {
   "cell_type": "code",
   "execution_count": null,
   "metadata": {},
   "outputs": [],
   "source": [
    "%%bash\n",
    "docker pull bids/validator\n",
    "\n",
    "docker run -ti --rm -v /mnt/ccsl_nas/studies/flow_dynamic/dicom/main_study_bids/bids_nii:/data:ro bids/validator /data"
   ]
  },
  {
   "cell_type": "code",
   "execution_count": null,
   "metadata": {},
   "outputs": [],
   "source": [
    "import webbrowser\n",
    "\n",
    "# Check, is your data structure BIDS compliant?\n",
    "\n",
    "url = 'https://' + 'bids-standard.github.io/bids-validator/'\n",
    "webbrowser.open(url)"
   ]
  }
 ],
 "metadata": {
  "kernelspec": {
   "display_name": "Python 3",
   "language": "python",
   "name": "python3"
  },
  "language_info": {
   "codemirror_mode": {
    "name": "ipython",
    "version": 3
   },
   "file_extension": ".py",
   "mimetype": "text/x-python",
   "name": "python",
   "nbconvert_exporter": "python",
   "pygments_lexer": "ipython3",
   "version": "3.7.5"
  }
 },
 "nbformat": 4,
 "nbformat_minor": 2
}
