{
 "cells": [
  {
   "cell_type": "markdown",
   "metadata": {},
   "source": [
    "## Time series to dynamic functional connectivity matrices"
   ]
  },
  {
   "cell_type": "code",
   "execution_count": null,
   "metadata": {},
   "outputs": [],
   "source": [
    "import numpy as np\n",
    "import glob\n",
    "from nilearn import datasets\n",
    "from nilearn import input_data\n",
    "import pandas as pd\n",
    "from nilearn.connectome import ConnectivityMeasure\n",
    "from sklearn.covariance import EmpiricalCovariance\n",
    "\n",
    "correlation_measure = ConnectivityMeasure(kind='correlation', discard_diagonal=True)\n",
    "covariance_measure = ConnectivityMeasure(kind='covariance', discard_diagonal=True)\n",
    "import pickle\n",
    "import scipy\n",
    "import scipy.io"
   ]
  },
  {
   "cell_type": "markdown",
   "metadata": {},
   "source": [
    "### first we load preprocessed files (times series)\n",
    "\n",
    "Note these files are preprocessed by fmriprep and denoised by xcpengine"
   ]
  },
  {
   "cell_type": "code",
   "execution_count": null,
   "metadata": {},
   "outputs": [],
   "source": [
    "# Change the dir to your data dir\n",
    "filenames = sorted(glob.glob('/data/analysis/data/time_series/*'))\n",
    "\n",
    "for f in filenames:\n",
    "    print(f)\n",
    "len(filenames)"
   ]
  },
  {
   "cell_type": "markdown",
   "metadata": {},
   "source": [
    "## We then slice each time series as non-overlapping time windows\n",
    "\n",
    "each time window has 30 TR (2*30 = 60s)"
   ]
  },
  {
   "cell_type": "code",
   "execution_count": null,
   "metadata": {},
   "outputs": [],
   "source": [
    "pooled_subjects = []\n",
    "pooled_subjects_win1 = []\n",
    "pooled_subjects_win2 = []\n",
    "pooled_subjects_win3 = []\n",
    "pooled_subjects_win4 = []\n",
    "\n",
    "\n",
    "for f in filenames:\n",
    "    # load files\n",
    "    time_series = np.loadtxt(f, delimiter=',')\n",
    "    # slicing time series\n",
    "    time_series_win1 = time_series[0:30,:]\n",
    "    time_series_win2 = time_series[30:60,:]\n",
    "    time_series_win3 = time_series[60:90,:]\n",
    "    time_series_win4 = time_series[90:121,:]\n",
    "    \n",
    "    pooled_subjects.append(time_series)\n",
    "    pooled_subjects_win1.append(time_series_win1)\n",
    "    pooled_subjects_win2.append(time_series_win2)\n",
    "    pooled_subjects_win3.append(time_series_win3)\n",
    "    pooled_subjects_win4.append(time_series_win4)"
   ]
  },
  {
   "cell_type": "markdown",
   "metadata": {},
   "source": [
    "## We then tranform each time series to a functional connectivity matrix with tools from nilearn\n",
    "\n",
    "Note that the way nilearn calculate correlation is a little bit different from the normal correlation calculation such as in matlab.\n",
    "\n",
    "See this [post](https://neurostars.org/t/connectivitymeasure-function-in-nilearn-compare-with-corrcoef-in-matlab/3659/4)"
   ]
  },
  {
   "cell_type": "code",
   "execution_count": null,
   "metadata": {},
   "outputs": [],
   "source": [
    "# calculate correlation matrix and covarance matrix for each sub and each run\n",
    "correlation_matrices = correlation_measure.fit_transform(pooled_subjects)\n",
    "correlation_matrices_win1 = correlation_measure.fit_transform(pooled_subjects_win1)\n",
    "correlation_matrices_win2 = correlation_measure.fit_transform(pooled_subjects_win2)\n",
    "correlation_matrices_win3 = correlation_measure.fit_transform(pooled_subjects_win3)\n",
    "correlation_matrices_win4 = correlation_measure.fit_transform(pooled_subjects_win4)\n",
    "\n",
    "\n",
    "covariance_matricies = covariance_measure.fit_transform(pooled_subjects)\n",
    "covariance_matricies_win1 = covariance_measure.fit_transform(pooled_subjects_win1)\n",
    "covariance_matricies_win2 = covariance_measure.fit_transform(pooled_subjects_win2)\n",
    "covariance_matricies_win3 = covariance_measure.fit_transform(pooled_subjects_win3)\n",
    "covariance_matricies_win4 = covariance_measure.fit_transform(pooled_subjects_win4)"
   ]
  },
  {
   "cell_type": "markdown",
   "metadata": {},
   "source": [
    "## Then we can confirm the shape of the transformed correlation matrix"
   ]
  },
  {
   "cell_type": "code",
   "execution_count": null,
   "metadata": {},
   "outputs": [],
   "source": [
    "# Print time series rows should represent how many TRs in your data\n",
    "# Col should represent how many nodes in your atlas\n",
    "print(time_series.shape)\n",
    "print(time_series_win1.shape)\n",
    "print(time_series_win2.shape)\n",
    "print(time_series_win3.shape)\n",
    "print(time_series_win4.shape)\n",
    "\n",
    "print(correlation_matrices.shape)\n",
    "print(covariance_matricies.shape)\n",
    "# Print how many 3-d Images in your data\n",
    "print(len(pooled_subjects))\n",
    "# Print how many participants in your data\n",
    "print(len(pooled_subjects)/3)"
   ]
  },
  {
   "cell_type": "markdown",
   "metadata": {},
   "source": [
    "## Then we load the meta data \n",
    "\n",
    "This step is to classify the matrices into different experimental conditions and participants.\n",
    "\n",
    "This meta file is a csv file which includes information about the sub index, experimental condition and the file name."
   ]
  },
  {
   "cell_type": "code",
   "execution_count": null,
   "metadata": {},
   "outputs": [],
   "source": [
    "# Load meta data\n",
    "meta = pd.read_csv('meta_full.csv')\n",
    "meta[\"file\"] = meta[\"file\"].str.slice(18, 24, 1) "
   ]
  },
  {
   "cell_type": "code",
   "execution_count": null,
   "metadata": {},
   "outputs": [],
   "source": [
    "meta"
   ]
  },
  {
   "cell_type": "markdown",
   "metadata": {},
   "source": [
    "## Then we make a dictionary to include all the functional matrices\n",
    "\n",
    "Thes dictionary has components, each conponents corresponds to each experimental condition (bore flow frust).\n",
    "Then it append each matrices into the right position in the dictionary.\n",
    "Making the dataset as a dictionary is convinient to store as a matlab readale data file (.mat)."
   ]
  },
  {
   "cell_type": "code",
   "execution_count": null,
   "metadata": {},
   "outputs": [],
   "source": [
    "# create a dictionary that includes everything\n",
    "mats = dict({\n",
    "            \"flow\": {\"filename\": [], \n",
    "                     \"sub\": [], \n",
    "                     \"run\": [], \n",
    "                     \"time_series\": [], \n",
    "                     \"corr_mats\": [], \n",
    "                     \"win_1\": [],\n",
    "                     \"win_2\": [],\n",
    "                     \"win_3\": [],\n",
    "                     \"win_4\": [],\n",
    "                     \"cov_mats\": [],\n",
    "                     \"cov_win_1\": [],\n",
    "                     \"cov_win_2\": [],\n",
    "                     \"cov_win_3\": [],\n",
    "                     \"cov_win_4\": []}, \n",
    "            \"bore\": {\"filename\": [], \n",
    "                     \"sub\": [], \n",
    "                     \"run\": [], \n",
    "                     \"time_series\": [], \n",
    "                     \"corr_mats\": [], \n",
    "                     \"win_1\": [],\n",
    "                     \"win_2\": [],\n",
    "                     \"win_3\": [],\n",
    "                     \"win_4\": [],\n",
    "                     \"cov_mats\": [],\n",
    "                     \"cov_win_1\": [],\n",
    "                     \"cov_win_2\": [],\n",
    "                     \"cov_win_3\": [],\n",
    "                     \"cov_win_4\": []}, \n",
    "            \"frus\": {\"filename\": [], \n",
    "                     \"sub\": [], \n",
    "                     \"run\": [], \n",
    "                     \"time_series\": [], \n",
    "                     \"corr_mats\": [], \n",
    "                     \"win_1\": [],\n",
    "                     \"win_2\": [],\n",
    "                     \"win_3\": [],\n",
    "                     \"win_4\": [],\n",
    "                     \"cov_mats\": [],\n",
    "                     \"cov_win_1\": [],\n",
    "                     \"cov_win_2\": [],\n",
    "                     \"cov_win_3\": [],\n",
    "                     \"cov_win_4\": []}\n",
    "            })\n",
    "\n",
    "\n",
    "for i in range(len(filenames)):\n",
    "    for j in range(len(meta)):\n",
    "        if meta.iloc[j]['sub'] in filenames[i] and meta.iloc[j]['file'] in filenames[i]:\n",
    "            if meta.iloc[j]['condition'] == 'flow':\n",
    "                print('filename is', i, \"flow\")\n",
    "                print(meta.iloc[j]['sub'], meta.iloc[j]['file'])\n",
    "                \n",
    "                # append time series and corr-mats, cov-mats into the data\n",
    "                mats[\"flow\"][\"time_series\"].append(pooled_subjects[i])\n",
    "                mats[\"flow\"][\"corr_mats\"].append(correlation_matrices[i])\n",
    "                mats[\"flow\"][\"win_1\"].append(correlation_matrices_win1[i])\n",
    "                mats[\"flow\"][\"win_2\"].append(correlation_matrices_win2[i])\n",
    "                mats[\"flow\"][\"win_3\"].append(correlation_matrices_win3[i])\n",
    "                mats[\"flow\"][\"win_4\"].append(correlation_matrices_win4[i])\n",
    "                \n",
    "                mats[\"flow\"][\"cov_mats\"].append(covariance_matricies[i])\n",
    "                mats[\"flow\"][\"cov_win_1\"].append(covariance_matricies_win1[i])\n",
    "                mats[\"flow\"][\"cov_win_2\"].append(covariance_matricies_win2[i])\n",
    "                mats[\"flow\"][\"cov_win_3\"].append(covariance_matricies_win3[i])\n",
    "                mats[\"flow\"][\"cov_win_4\"].append(covariance_matricies_win4[i])\n",
    "                \n",
    "                # append metadata information into the data\n",
    "                mats[\"flow\"][\"filename\"].append(filenames[i])\n",
    "                mats[\"flow\"][\"sub\"].append(meta.iloc[j]['sub'])\n",
    "                mats[\"flow\"][\"run\"].append(meta.iloc[j]['file'])\n",
    "            elif meta.iloc[j]['condition'] == 'boredom':\n",
    "                print('filename is', i, \"bore\")\n",
    "                print(meta.iloc[j]['sub'], meta.iloc[j]['file'])\n",
    "                \n",
    "                # append time series and corr-mats, cov-mats into the data\n",
    "                mats[\"bore\"][\"time_series\"].append(pooled_subjects[i])\n",
    "                mats[\"bore\"][\"corr_mats\"].append(correlation_matrices[i])\n",
    "                mats[\"bore\"][\"win_1\"].append(correlation_matrices_win1[i])\n",
    "                mats[\"bore\"][\"win_2\"].append(correlation_matrices_win2[i])\n",
    "                mats[\"bore\"][\"win_3\"].append(correlation_matrices_win3[i])\n",
    "                mats[\"bore\"][\"win_4\"].append(correlation_matrices_win4[i])\n",
    "                \n",
    "                mats[\"bore\"][\"cov_mats\"].append(covariance_matricies[i])\n",
    "                mats[\"bore\"][\"cov_win_1\"].append(covariance_matricies_win1[i])\n",
    "                mats[\"bore\"][\"cov_win_2\"].append(covariance_matricies_win2[i])\n",
    "                mats[\"bore\"][\"cov_win_3\"].append(covariance_matricies_win3[i])\n",
    "                mats[\"bore\"][\"cov_win_4\"].append(covariance_matricies_win4[i])\n",
    "                \n",
    "                # append metadata information into the data\n",
    "                mats[\"bore\"][\"filename\"].append(filenames[i])\n",
    "                mats[\"bore\"][\"sub\"].append(meta.iloc[j]['sub'])\n",
    "                mats[\"bore\"][\"run\"].append(meta.iloc[j]['file'])\n",
    "            elif meta.iloc[j]['condition'] == 'frustration':\n",
    "                print('filename is', i, \"frus\")\n",
    "                print(meta.iloc[j]['sub'], meta.iloc[j]['file'])\n",
    "                \n",
    "                # append time series and corr-mats, cov-mats into the data\n",
    "                mats[\"frus\"][\"time_series\"].append(pooled_subjects[i])\n",
    "                mats[\"frus\"][\"corr_mats\"].append(correlation_matrices[i])\n",
    "                mats[\"frus\"][\"win_1\"].append(correlation_matrices_win1[i])\n",
    "                mats[\"frus\"][\"win_2\"].append(correlation_matrices_win2[i])\n",
    "                mats[\"frus\"][\"win_3\"].append(correlation_matrices_win3[i])\n",
    "                mats[\"frus\"][\"win_4\"].append(correlation_matrices_win4[i])\n",
    "                \n",
    "                mats[\"frus\"][\"cov_mats\"].append(covariance_matricies[i])\n",
    "                mats[\"frus\"][\"cov_win_1\"].append(covariance_matricies_win1[i])\n",
    "                mats[\"frus\"][\"cov_win_2\"].append(covariance_matricies_win2[i])\n",
    "                mats[\"frus\"][\"cov_win_3\"].append(covariance_matricies_win3[i])\n",
    "                mats[\"frus\"][\"cov_win_4\"].append(covariance_matricies_win4[i])\n",
    "                \n",
    "                # append metadata information into the data\n",
    "                mats[\"frus\"][\"filename\"].append(filenames[i])\n",
    "                mats[\"frus\"][\"sub\"].append(meta.iloc[j]['sub'])\n",
    "                mats[\"frus\"][\"run\"].append(meta.iloc[j]['file'])"
   ]
  },
  {
   "cell_type": "markdown",
   "metadata": {},
   "source": [
    "## Then we can save the file as .mat file\n",
    "\n",
    ".mat can make the file matlab readable. "
   ]
  },
  {
   "cell_type": "code",
   "execution_count": null,
   "metadata": {},
   "outputs": [],
   "source": [
    "# Save file to pickle\n",
    "# with open('output_0108_nogsr.pickle', 'wb') as handle:\n",
    "#    pickle.dump(mats, handle, protocol=pickle.HIGHEST_PROTOCOL)\n",
    "\n",
    "# Save file to .mat (this is preferred because it is readable by matlab)\n",
    "scipy.io.savemat('/data/output.mat', mats)"
   ]
  },
  {
   "cell_type": "code",
   "execution_count": null,
   "metadata": {},
   "outputs": [],
   "source": [
    "import matplotlib.pyplot as plt\n",
    "print(time_series.shape)\n",
    "plt.plot(pooled_subjects[2])\n",
    "plt.title('Extracted Time Series from Power atlas')\n",
    "plt.xlabel('Scan number')\n",
    "plt.ylabel('BOLD signal')\n",
    "plt.tight_layout()\n",
    "plt.savefig('figures/method/extracted_time_series.png')"
   ]
  },
  {
   "cell_type": "code",
   "execution_count": null,
   "metadata": {},
   "outputs": [],
   "source": []
  }
 ],
 "metadata": {
  "kernelspec": {
   "display_name": "Python 3",
   "language": "python",
   "name": "python3"
  },
  "language_info": {
   "codemirror_mode": {
    "name": "ipython",
    "version": 3
   },
   "file_extension": ".py",
   "mimetype": "text/x-python",
   "name": "python",
   "nbconvert_exporter": "python",
   "pygments_lexer": "ipython3",
   "version": "3.7.4"
  }
 },
 "nbformat": 4,
 "nbformat_minor": 4
}
